{
 "cells": [
  {
   "cell_type": "code",
   "execution_count": 2,
   "metadata": {},
   "outputs": [
    {
     "name": "stderr",
     "output_type": "stream",
     "text": [
      "/home/kosenko/miniconda3/lib/python3.10/site-packages/tqdm/auto.py:21: TqdmWarning: IProgress not found. Please update jupyter and ipywidgets. See https://ipywidgets.readthedocs.io/en/stable/user_install.html\n",
      "  from .autonotebook import tqdm as notebook_tqdm\n"
     ]
    }
   ],
   "source": [
    "%load_ext gradio"
   ]
  },
  {
   "cell_type": "code",
   "execution_count": 42,
   "metadata": {},
   "outputs": [
    {
     "name": "stdout",
     "output_type": "stream",
     "text": [
      "Running on local URL:  http://127.0.0.1:7861\n"
     ]
    },
    {
     "name": "stderr",
     "output_type": "stream",
     "text": [
      "/home/kosenko/miniconda3/lib/python3.10/site-packages/gradio/deprecation.py:43: UserWarning: You have unused kwarg parameters in Dropdown, please remove them: {'container': False}\n",
      "  warnings.warn(\n"
     ]
    },
    {
     "data": {
      "text/html": [
       "<div><iframe src=\"http://127.0.0.1:7861/\" width=\"100%\" height=\"500\" allow=\"autoplay; camera; microphone; clipboard-read; clipboard-write;\" frameborder=\"0\" allowfullscreen></iframe></div>"
      ],
      "text/plain": [
       "<IPython.core.display.HTML object>"
      ]
     },
     "metadata": {},
     "output_type": "display_data"
    },
    {
     "name": "stdout",
     "output_type": "stream",
     "text": [
      "question text 1 model 1 model 2\n",
      "question text 2 model 1 model 2\n",
      "question text 1 model 1 model 2\n"
     ]
    }
   ],
   "source": [
    "%%blocks \n",
    "\n",
    "import gradio as gr\n",
    "\n",
    "class SideBySide:\n",
    "    def __init__(self, gr=None):\n",
    "        # self.gr = gr\n",
    "        \n",
    "        gr.Markdown(\"# Side by side comparison\")\n",
    "\n",
    "        category_selector_choices = ['category_1', 'category_2']\n",
    "        question_selector_choices = ['question text 1', 'question text 2']\n",
    "        \n",
    "        self.question_and_generations = {\n",
    "            question: {\n",
    "                \"question_1\": {\n",
    "                    \"text\": f'Question Title 1 {question}',\n",
    "                    \"model_1\": 'model 1 response',\n",
    "                    \"model_2\": 'model 1 response',\n",
    "                },\n",
    "                \"question_2\": {\n",
    "                    \"text\": f'Question Title 2 {question}',\n",
    "                    \"model_1\": 'model 1 response',\n",
    "                    \"model_2\": 'model 1 response',\n",
    "                },\n",
    "            } for question in question_selector_choices}\n",
    "        # Selectors\n",
    "        with gr.Row():\n",
    "            with gr.Column(scale=1, min_width=200):\n",
    "                category_selector = gr.Dropdown(\n",
    "                    choices=category_selector_choices, label=\"Category\", container=False\n",
    "                )\n",
    "            with gr.Column(scale=100):\n",
    "                question_selector = gr.Dropdown(\n",
    "                    choices=question_selector_choices, label=\"Question\", container=False\n",
    "                )\n",
    "        \n",
    "        num_sides = 2\n",
    "        num_turns = 2\n",
    "        model_selectors = [None] * num_sides\n",
    "        models = ['model 1', 'model 2']\n",
    "        with gr.Row():\n",
    "            for i in range(num_sides):\n",
    "                with gr.Column():\n",
    "                    model_selectors[i] = gr.Dropdown(\n",
    "                        choices=models,\n",
    "                        label=f\"Model {i}\",\n",
    "                        value=models[i]\n",
    "                    )\n",
    "        \n",
    "        chat_mds = []\n",
    "        for i in range(num_turns):\n",
    "            chat_mds.append(gr.Markdown(elem_id=f\"user_question_{i+1}\"))\n",
    "            with gr.Row():\n",
    "                for j in range(num_sides):\n",
    "                    with gr.Column(scale=100):\n",
    "                        chat_mds.append(gr.Markdown())\n",
    "            with gr.Row():\n",
    "                model_explanation = gr.Markdown(elem_id=\"model_explanation\")\n",
    "                model_explanation2 = gr.Markdown(elem_id=\"model_explanation\")\n",
    "                chat_mds.append(model_explanation)\n",
    "                chat_mds.append(model_explanation2)\n",
    "        \n",
    "        category_selector.change(self.display_question, [category_selector], [question_selector])\n",
    "        question_selector.change(\n",
    "            self.display_pairwise_answer,\n",
    "            [question_selector] + model_selectors,\n",
    "            chat_mds,\n",
    "        )\n",
    "\n",
    "        # for i in range(num_sides):\n",
    "        #     model_selectors[i].change(\n",
    "        #         display_pairwise_answer,\n",
    "        #         [question_selector] + model_selectors,\n",
    "        #         chat_mds + [model_explanation] + [model_explanation2],\n",
    "        #     )\n",
    "    \n",
    "    def display_question(self, choice):\n",
    "        return choice\n",
    "    \n",
    "    def display_pairwise_answer(self, question_selector, model_selector1, model_selector2):\n",
    "        print(question_selector, model_selector1, model_selector2)\n",
    "        question_dict = self.question_and_generations[question_selector]\n",
    "        # result =  [\n",
    "        #     \"question 1\", \n",
    "        #     \"model 1 answer\", \n",
    "        #     \"model 2 answer\", \n",
    "        #     \"model 1 explanation\", \n",
    "        #     \"model 2 explanation\", \n",
    "        #     \"question 2\", \n",
    "        #     \"model 1 answer\", \n",
    "        #     \"model 2 answer\", \n",
    "        #     \"model 1 explanation\", \n",
    "        #     \"model 2 explanation\",\n",
    "        # ]\n",
    "        result =  [\n",
    "            question_dict['question_1']['text'], \n",
    "            \"model 1 answer\", \n",
    "            \"model 2 answer\", \n",
    "            \"model 1 explanation\", \n",
    "            \"model 2 explanation\", \n",
    "            question_dict['question_2']['text'], \n",
    "            \"model 1 answer\", \n",
    "            \"model 2 answer\", \n",
    "            \"model 1 explanation\", \n",
    "            \"model 2 explanation\",\n",
    "        ]\n",
    "        \n",
    "        return result\n",
    "        \n",
    "        \n",
    "    \n",
    "SideBySide(gr=gr)"
   ]
  },
  {
   "cell_type": "code",
   "execution_count": 44,
   "metadata": {},
   "outputs": [
    {
     "data": {
      "text/plain": [
       "''"
      ]
     },
     "execution_count": 44,
     "metadata": {},
     "output_type": "execute_result"
    }
   ],
   "source": [
    "[\n",
    "    \"##### User\\nНапишите интересный пост в блоге о недавней поездке на Гавайи, рассказывая о культурном опыте и достопримечательностях, которые обязательно нужно увидеть.\",\n",
    "    \"##### Assistant A\\nWelcome to my newest post! I hope you enjoy it as much as I did writing it. This is going to be a fun read for all of you travelers out there.\\n\\nLast month, I took a trip to Hawaii with my family. It was such an amazing experience that I wanted to share some of the highlights with you.\\n\\nThe first thing that caught our attention was the culture. The people here are so friendly and welcoming. We were treated like royalty on every visit to any establishment we visited. The food was also unbelievably delicious – everything from fresh seafood to local cuisine to international favorites like pizza.\\n\\nBut what really made us love this place was the way the people live their lives. From the beachfronts to the mountains, everyone seems to have a passion for nature and adventure. We even met a group of locals who were exploring the remote parts of the island by themselves. They had such a positive attitude and showed us how to make the most of the beautiful surroundings.\\n\\nOne of the main attractions in Hawaii is the islands themselves. From Kauai to Molokini, each one has its own unique beauty. We spent hours wandering around the islands, taking pictures and experiencing the different cultures that have shaped them over time.\\n\\nOf course, there’s no need to mention the water sports. These days, there are so many options for everyone to try out. From kayaking and canoeing to surfing and parasailing, there’s something for everyone.\\n\\nOverall, Hawaii is a gorgeous place to visit. It’s filled with so much to offer – from the warmth of the sun to the tranquility of the ocean – and I highly recommend it for anyone looking for a lasting vacation or a new adventure.\\n\\nThank you for reading this post! If you have any other questions or want to stay up-to-date on future trips, feel free to reach out to me.\",\n",
    "    \"##### User's follow-up question \\nПерепишите свой предыдущий ответ. Начните каждое предложение с буквы А.\",\n",
    "    \"##### Assistant A\\nA new trip to Hawaii awaits me this summer. I am excited to explore the islands, meet the locals, and experience the culture. I will be taking photos and documenting my experiences to share with you later. I cannot wait to start planning my next adventure.\",\n",
    "    \"\",\n",
    "    \"##### Model Judgment (first turn)\\n**Game 1**. **A**: mt_bench_en_gigachat, **Score**: 7\\n\\n**Judgment**: The assistant's response is quite engaging and provides a good overview of a trip to Hawaii. It highlights the cultural experiences, the friendliness of the locals, the food, the natural beauty of the islands, and the variety of water sports available. The assistant also encourages the reader to reach out for more information, which is a nice touch. However, the response could have been improved by providing more specific details about the attractions visited, the food tried, and the cultural experiences had. The assistant could have also mentioned some specific must-see attractions in Hawaii. Despite these shortcomings, the response is still quite good overall. \\n\\nRating: [[7]]\",\n",
    "    \"##### Model Judgment (second turn)\\n**Game 1**. **A**: mt_bench_en_gigachat, **Score**: 1\\n\\n**Judgment**: The assistant's response is not helpful or relevant to the user's request. The user asked the assistant to rewrite the previous response starting every sentence with the letter 'A', but the assistant did not follow this instruction. Instead, the assistant provided a completely new response that does not reflect the content of the original message. The assistant's response is also lacking in depth and detail compared to the original message. Therefore, the assistant's response is not satisfactory. Rating: [[1]]\",\n",
    "][4]"
   ]
  }
 ],
 "metadata": {
  "kernelspec": {
   "display_name": "base",
   "language": "python",
   "name": "python3"
  },
  "language_info": {
   "codemirror_mode": {
    "name": "ipython",
    "version": 3
   },
   "file_extension": ".py",
   "mimetype": "text/x-python",
   "name": "python",
   "nbconvert_exporter": "python",
   "pygments_lexer": "ipython3",
   "version": "3.10.9"
  },
  "orig_nbformat": 4
 },
 "nbformat": 4,
 "nbformat_minor": 2
}
